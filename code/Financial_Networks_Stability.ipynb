{
  "nbformat": 4,
  "nbformat_minor": 0,
  "metadata": {
    "colab": {
      "provenance": [],
      "include_colab_link": true
    },
    "kernelspec": {
      "name": "python3",
      "display_name": "Python 3"
    },
    "language_info": {
      "name": "python"
    }
  },
  "cells": [
    {
      "cell_type": "markdown",
      "metadata": {
        "id": "view-in-github",
        "colab_type": "text"
      },
      "source": [
        "<a href=\"https://colab.research.google.com/github/ingUANDES/BlockchainAdoption/blob/main/code/Financial_Networks_Stability.ipynb\" target=\"_parent\"><img src=\"https://colab.research.google.com/assets/colab-badge.svg\" alt=\"Open In Colab\"/></a>"
      ]
    },
    {
      "cell_type": "markdown",
      "source": [
        "\n",
        "\n",
        "---\n",
        "\n",
        "## Actualización  2/10/2024"
      ],
      "metadata": {
        "id": "thuQ1LV8oQZ6"
      }
    },
    {
      "cell_type": "markdown",
      "source": [
        "### **Objetivo**\n",
        "\n",
        "El objetivo general es desarrollar un modelo teórico que permita analizar cómo los agentes financieros optimizan la distribución de sus transacciones entre sistemas financieros tradicionales y blockchain, maximizando su utilidad total.\n",
        "\n",
        "\n",
        "El modelo teórico derivará las condiciones bajo las cuales los agentes alcanzan un equilibrio estable entre la cantidad de transacciones que destinan a blockchain y a los sistemas tradicionales, o en qué condiciones uno de los sistemas prevalece sobre el otro.\n",
        "\n"
      ],
      "metadata": {
        "id": "M1skCze9c9jM"
      }
    },
    {
      "cell_type": "markdown",
      "source": [
        "### **Problema de Maximización**\n",
        "El agente optimiza dos decisiones clave:\n",
        "- **$\\alpha$**: La proporción de la transacción destinada a blockchain.\n",
        "- **$w_i$**: El tamaño total de la transacción.\n",
        "\n",
        "Y tiene que resolver el siguiente problema de optimización:\n",
        "\n",
        "$$\n",
        "\\max_{\\alpha, w_i} U_i(W, \\alpha, \\tilde{P}, \\hat{P}, N_{\\text{blockchain}})\n",
        "$$\n",
        "\n",
        "### Función de Utilidad\n",
        "\n",
        "$$\n",
        "U_i(W, \\alpha, \\tilde{P}, \\hat{P}, N_{\\text{blockchain}}) = (1 - \\alpha) w_i^T (\\tilde{\\mu}_i - \\tilde{P}e_i) - \\gamma_i (1 - \\alpha) w_i^T \\tilde{\\Sigma} (1 - \\alpha) w_i\n",
        "$$\n",
        "$$\n",
        "+ \\alpha w_i^T (\\hat{\\mu}_i - \\hat{P}e_i) - \\gamma_i \\alpha w_i^T \\hat{\\Sigma} \\alpha w_i\n",
        "$$\n",
        "$$\n",
        "- \\gamma \\cdot R_{\\text{tradicional}}(w_i, H_{\\text{blockchain}}) + \\phi_i \\cdot C_{\\text{tradicional}}\n",
        "- \\gamma \\cdot \\frac{H_{\\text{blockchain}}(w_i, R_{\\text{tradicional}})}{N_{\\text{blockchain}}} + \\eta_i \\cdot N_{\\text{blockchain}}\n",
        "$$\n",
        "\n",
        "\n",
        "\n",
        "\n",
        "### Explicación de cada término y parámetro:\n",
        "\n",
        "1. **Distribución del contrato entre sistemas**:\n",
        "   - $(1 - \\alpha) w_i$: Proporción del contrato total $w_i$ que el agente asigna al **sistema tradicional**.\n",
        "   - $\\alpha w_i$: Proporción del contrato total que el agente asigna a **blockchain**.\n",
        "   - $\\alpha$: Proporción de la transacción destinada a blockchain, con $\\alpha \\in [0, 1]$.\n",
        "\n",
        "2. **Beneficios esperados**:\n",
        "   - **Para el sistema tradicional**:\n",
        "     - $\\tilde{\\mu}_i$: Beneficios esperados por el agente en el sistema tradicional.\n",
        "     - $\\tilde{P}$: Costos de transacción en el sistema tradicional (tarifas bancarias, costos de intermediación).\n",
        "     - $e_i$: Vector que representa al agente.\n",
        "   - **Para blockchain**:\n",
        "     - $\\hat{\\mu}_i$: Beneficios esperados en blockchain.\n",
        "     - $\\hat{P}$: Costos de transacción en blockchain (comisiones de gas).\n",
        "\n",
        "3. **Riesgos financieros en cada sistema (ponderados por $\\gamma_i$)**:\n",
        "   - **Sistema tradicional**:\n",
        "     - $- \\gamma_i (1 - \\alpha) w_i^T \\tilde{\\Sigma} (1 - \\alpha) w_i$: Este término representa los **riesgos financieros** (volatilidad) en el sistema tradicional, con $\\tilde{\\Sigma}$ como la matriz de covarianza de riesgos.\n",
        "   - **Blockchain**:\n",
        "     - $- \\gamma_i \\alpha w_i^T \\hat{\\Sigma} \\alpha w_i$: Riesgos financieros en blockchain, ponderados por $\\alpha$, donde $\\hat{\\Sigma}$ es la matriz de covarianza de los riesgos financieros en blockchain.\n",
        "\n",
        "4. **Riesgos interdependientes entre sistemas**:\n",
        "   - $\\gamma \\cdot R_{\\text{tradicional}}(w_i, H_{\\text{blockchain}})$: Este término refleja el **riesgo regulatorio** en el sistema tradicional, que depende del tamaño de la transacción ($w_i$) y del riesgo de hackeo en blockchain ($H_{\\text{blockchain}}$).\n",
        "   - $\\gamma \\cdot \\frac{H_{\\text{blockchain}}(w_i, R_{\\text{tradicional}})}{N_{\\text{blockchain}}}$: Riesgo de hackeo en blockchain, que depende del tamaño de la red ($N_{\\text{blockchain}}$) y el riesgo en el sistema tradicional.\n",
        "\n",
        "5. **Confianza institucional en el sistema tradicional**:\n",
        "   - $\\phi_i \\cdot C_{\\text{tradicional}}$: Término que captura el nivel de **confianza institucional** en las instituciones financieras tradicionales, que afecta positivamente la utilidad derivada de operar en ese sistema.\n",
        "\n",
        "6. **Efectos de red en blockchain**:\n",
        "   - $\\eta_i \\cdot N_{\\text{blockchain}}$: Término que mide el **efecto de red** en blockchain. A medida que el número de participantes en la red ($N_{\\text{blockchain}}$) crece, la seguridad y la liquidez aumentan, lo que incrementa la utilidad para los agentes.\n",
        "\n",
        "---\n",
        "\n",
        "\n"
      ],
      "metadata": {
        "id": "YrndTE1p2Rfm"
      }
    },
    {
      "cell_type": "markdown",
      "source": [
        "\n",
        "\n",
        "---\n",
        "\n",
        "\n",
        "##Idea de Tésis 26/09/2024\n",
        "Comparar la utilidad y los riesgos que enfrentan los participantes en sistemas financieros basados en blockchain frente a los sistemas financieros tradicionales. A través de funciones de utilidad para ambos sistemas, se analizarán los costos de transacción, riesgos de seguridad, confianza institucional y efectos de red. El objetivo es entender qué factores determinan la preferencia de los usuarios y si es posible lograr un equilibrio estable en cada sistema o si uno prevalecerá sobre el otro."
      ],
      "metadata": {
        "id": "42AbWhXQoN7l"
      }
    },
    {
      "cell_type": "markdown",
      "source": [],
      "metadata": {
        "id": "051U_HQqK3ap"
      }
    },
    {
      "cell_type": "markdown",
      "source": [
        "###Posible función de utilidad en un sistema blockchain\n",
        "\n",
        "La función de utilidad para un participante $i$ en un sistema blockchain se definiría como:\n",
        "\n",
        "$$\n",
        "U_{\\text{blockchain}, i} = w_i^T (\\mu_i - C e_i) - \\gamma_i \\cdot w_i^T \\Sigma_i w_i - \\lambda_i \\cdot H_i + \\eta_i \\cdot N_i\n",
        "$$\n",
        "\n",
        "Donde:\n",
        "\n",
        "- $w_i $: Tamaño de las transacciones o contratos del participante $i$.\n",
        "- $ \\mu_i $: Beneficios esperados de las transacciones.\n",
        "- $ C $: Costos de utilizar blockchain (fees).\n",
        "- $ \\gamma_i $: Coeficiente de aversión al riesgo.\n",
        "- $ \\Sigma_i $: Matriz de covarianza de riesgos.\n",
        "- $ \\lambda_i $: Coeficiente de riesgo de hackeo.\n",
        "- $ H_i $: Riesgo de hackeo.\n",
        "- $ \\eta_i $: Coeficiente de efecto de red.\n",
        "- $ N_i $: Tamaño de la red o liquidez.\n",
        "\n",
        "\n",
        "\n",
        "###Posible función de utilidad en un sistema tradicional\n",
        "\n",
        "$$\n",
        "U_{\\text{tradicional}, i} = w_i^T (\\mu_i - F e_i) - \\beta_i \\cdot R_i + \\phi_i \\cdot C_i\n",
        "$$\n",
        "\n",
        "Donde:\n",
        "\n",
        "- $w_i$: Tamaño de las transacciones del participante $i$.\n",
        "- $\\mu_i$: Beneficios esperados en el sistema tradicional.\n",
        "- $F$: Costos de transacción (comisiones bancarias, tarifas de intermediarios).\n",
        "- $e_i$: Vector que representa al participante $i$.\n",
        "- $\\beta_i$: Coeficiente de aversión al riesgo regulatorio.\n",
        "- $R_i$: Riesgo regulatorio (cumplimiento normativo, costos legales).\n",
        "- $\\phi_i$: Sensibilidad a la confianza institucional (protección por parte de bancos o entidades financieras).\n",
        "- $C_i$: Nivel de confianza en las instituciones tradicionales."
      ],
      "metadata": {
        "id": "UooYsphhoQiK"
      }
    }
  ]
}